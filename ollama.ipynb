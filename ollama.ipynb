{
  "nbformat": 4,
  "nbformat_minor": 0,
  "metadata": {
    "colab": {
      "provenance": []
    },
    "kernelspec": {
      "name": "python3",
      "display_name": "Python 3"
    },
    "language_info": {
      "name": "python"
    }
  },
  "cells": [
    {
      "cell_type": "code",
      "execution_count": 1,
      "metadata": {
        "colab": {
          "base_uri": "https://localhost:8080/"
        },
        "id": "qwIImu44vPRC",
        "outputId": "ab9ba896-e11f-4578-83a8-acb6e40a8980"
      },
      "outputs": [
        {
          "output_type": "stream",
          "name": "stdout",
          "text": [
            "  % Total    % Received % Xferd  Average Speed   Time    Time     Time  Current\n",
            "                                 Dload  Upload   Total   Spent    Left  Speed\n",
            "100  7494    0  7494    0     0  34993      0 --:--:-- --:--:-- --:--:-- 35018\n",
            ">>> Downloading ollama...\n",
            "######################################################################## 100.0%\n",
            ">>> Installing ollama to /usr/local/bin...\n",
            ">>> Creating ollama user...\n",
            ">>> Creating ollama systemd service...\n",
            "WARNING: Unable to detect NVIDIA GPU. Install lspci or lshw to automatically detect and install NVIDIA CUDA drivers.\n",
            ">>> Install complete. Run \"ollama\" from the command line.\n"
          ]
        }
      ],
      "source": [
        "!curl https://ollama.ai/install.sh | sh"
      ]
    },
    {
      "cell_type": "code",
      "source": [
        "!ollama"
      ],
      "metadata": {
        "colab": {
          "base_uri": "https://localhost:8080/"
        },
        "id": "LBVI64VgvRyH",
        "outputId": "2d0bed0e-5c18-4fbc-b209-7216452101a7"
      },
      "execution_count": 2,
      "outputs": [
        {
          "output_type": "stream",
          "name": "stdout",
          "text": [
            "Large language model runner\n",
            "\n",
            "Usage:\n",
            "  ollama [command]\n",
            "\n",
            "Available Commands:\n",
            "  serve       Start ollama\n",
            "  create      Create a model from a Modelfile\n",
            "  show        Show information for a model\n",
            "  run         Run a model\n",
            "  pull        Pull a model from a registry\n",
            "  push        Push a model to a registry\n",
            "  list        List models\n",
            "  cp          Copy a model\n",
            "  rm          Remove a model\n",
            "  help        Help about any command\n",
            "\n",
            "Flags:\n",
            "  -h, --help      help for ollama\n",
            "  -v, --version   version for ollama\n",
            "\n",
            "Use \"ollama [command] --help\" for more information about a command.\n"
          ]
        }
      ]
    },
    {
      "cell_type": "code",
      "source": [
        "# Run in background using 'nohup'\n",
        "!nohup ollama serve &"
      ],
      "metadata": {
        "colab": {
          "base_uri": "https://localhost:8080/"
        },
        "id": "_cX1aCJ1vZNa",
        "outputId": "ecadd77b-ec5a-48ba-a0d8-48b0dce099fe"
      },
      "execution_count": 43,
      "outputs": [
        {
          "output_type": "stream",
          "name": "stdout",
          "text": [
            "nohup: appending output to 'nohup.out'\n"
          ]
        }
      ]
    },
    {
      "cell_type": "code",
      "source": [
        "!ollama run llama2"
      ],
      "metadata": {
        "colab": {
          "base_uri": "https://localhost:8080/"
        },
        "id": "08LoGKCdvdat",
        "outputId": "f17d196a-1ad4-4719-8aaf-1d1c88cd033d"
      },
      "execution_count": 35,
      "outputs": [
        {
          "output_type": "stream",
          "name": "stdout",
          "text": [
            "pulling manifest\n",
            "pulling 8daa9615cce3... 100% || (3.8/3.8 GB, 62 MB/s)\n",
            "pulling 8c17c2ebb0ea... 100% || (7.0/7.0 kB, 19 MB/s)\n",
            "pulling 7c23fb36d801... 100% || (4.8/4.8 kB, 22 MB/s)\n",
            "pulling bec56154823a... 100% || (59/59 B, 249 kB/s)\n",
            "pulling e35ab70a78c7... 100% || (90/90 B, 1.4 MB/s)\n",
            "pulling 09fe89200c09... 100% || (529/529 B, 3.0 MB/s)\n",
            "verifying sha256 digest\n",
            "writing manifest\n",
            "removing any unused layers\n",
            "success\n",
            "\b\u001b[J>>>  \b^C\n"
          ]
        }
      ]
    },
    {
      "cell_type": "code",
      "source": [
        "!tail nohup.out"
      ],
      "metadata": {
        "colab": {
          "base_uri": "https://localhost:8080/"
        },
        "id": "a0bcZgzOvjq0",
        "outputId": "b0104785-b99c-4f6e-cd34-58a1645db1fe"
      },
      "execution_count": 44,
      "outputs": [
        {
          "output_type": "stream",
          "name": "stdout",
          "text": [
            "{\"timestamp\":1696776756,\"level\":\"INFO\",\"function\":\"log_server_request\",\"line\":1157,\"message\":\"request\",\"remote_addr\":\"127.0.0.1\",\"remote_port\":45032,\"status\":200,\"method\":\"HEAD\",\"path\":\"/\",\"params\":{}}\n",
            "2023/10/08 14:52:36 llama.go:365: llama runner started in 0.600944 seconds\n",
            "{\"timestamp\":1696776756,\"level\":\"INFO\",\"function\":\"log_server_request\",\"line\":1157,\"message\":\"request\",\"remote_addr\":\"127.0.0.1\",\"remote_port\":45032,\"status\":200,\"method\":\"POST\",\"path\":\"/tokenize\",\"params\":{}}\n",
            "{\"timestamp\":1696776756,\"level\":\"INFO\",\"function\":\"log_server_request\",\"line\":1157,\"message\":\"request\",\"remote_addr\":\"127.0.0.1\",\"remote_port\":45032,\"status\":200,\"method\":\"POST\",\"path\":\"/tokenize\",\"params\":{}}\n",
            "[GIN] 2023/10/08 - 14:52:36 | 200 |  4.757807031s |       127.0.0.1 | POST     \"/api/generate\"\n",
            "2023/10/08 14:57:36 llama.go:323: llama runner exited with error: signal: killed\n",
            "2023/10/08 15:03:52 images.go:996: total blobs: 6\n",
            "2023/10/08 15:03:52 images.go:1003: total unused blobs removed: 0\n",
            "2023/10/08 15:03:52 routes.go:572: Listening on 127.0.0.1:11434\n",
            "2023/10/08 15:03:52 routes.go:592: Warning: GPU support may not enabled, check you have installed install GPU drivers: nvidia-smi command failed\n"
          ]
        }
      ]
    },
    {
      "cell_type": "code",
      "source": [
        "!curl -X POST http://localhost:11434/api/generate -d '{ \\\n",
        "  \"model\": \"llama2\", \\\n",
        "  \"prompt\":\"Why is the sky blue?\" \\\n",
        "}'"
      ],
      "metadata": {
        "colab": {
          "base_uri": "https://localhost:8080/"
        },
        "id": "N3pFNoD8wE7Z",
        "outputId": "35d6b450-81db-4a08-b3d3-342cb8fdca74"
      },
      "execution_count": 45,
      "outputs": [
        {
          "output_type": "stream",
          "name": "stdout",
          "text": [
            "{\"model\":\"llama2\",\"created_at\":\"2023-10-08T15:04:32.660687003Z\",\"response\":\" The\",\"done\":false}\n",
            "{\"model\":\"llama2\",\"created_at\":\"2023-10-08T15:04:33.272589434Z\",\"response\":\" sky\",\"done\":false}\n",
            "{\"model\":\"llama2\",\"created_at\":\"2023-10-08T15:04:33.856417998Z\",\"response\":\" appears\",\"done\":false}\n",
            "{\"model\":\"llama2\",\"created_at\":\"2023-10-08T15:04:34.484562986Z\",\"response\":\" blue\",\"done\":false}\n",
            "{\"model\":\"llama2\",\"created_at\":\"2023-10-08T15:04:35.101953413Z\",\"response\":\" because\",\"done\":false}\n",
            "{\"model\":\"llama2\",\"created_at\":\"2023-10-08T15:04:35.710181278Z\",\"response\":\" of\",\"done\":false}\n",
            "{\"model\":\"llama2\",\"created_at\":\"2023-10-08T15:04:36.315461255Z\",\"response\":\" a\",\"done\":false}\n",
            "{\"model\":\"llama2\",\"created_at\":\"2023-10-08T15:04:38.0323707Z\",\"response\":\" phenomen\",\"done\":false}\n",
            "{\"model\":\"llama2\",\"created_at\":\"2023-10-08T15:04:43.475465854Z\",\"response\":\"on\",\"done\":false}\n",
            "{\"model\":\"llama2\",\"created_at\":\"2023-10-08T15:04:47.078806493Z\",\"response\":\" called\",\"done\":false}\n",
            "{\"model\":\"llama2\",\"created_at\":\"2023-10-08T15:04:47.697654847Z\",\"response\":\" Ray\",\"done\":false}\n",
            "{\"model\":\"llama2\",\"created_at\":\"2023-10-08T15:04:48.286514704Z\",\"response\":\"le\",\"done\":false}\n",
            "{\"model\":\"llama2\",\"created_at\":\"2023-10-08T15:04:48.895790923Z\",\"response\":\"igh\",\"done\":false}\n",
            "{\"model\":\"llama2\",\"created_at\":\"2023-10-08T15:04:49.489589758Z\",\"response\":\" scatter\",\"done\":false}\n",
            "{\"model\":\"llama2\",\"created_at\":\"2023-10-08T15:04:50.13407186Z\",\"response\":\"ing\",\"done\":false}\n",
            "{\"model\":\"llama2\",\"created_at\":\"2023-10-08T15:04:50.744778987Z\",\"response\":\",\",\"done\":false}\n",
            "{\"model\":\"llama2\",\"created_at\":\"2023-10-08T15:04:51.338768706Z\",\"response\":\" which\",\"done\":false}\n",
            "{\"model\":\"llama2\",\"created_at\":\"2023-10-08T15:04:51.956481253Z\",\"response\":\" occurs\",\"done\":false}\n",
            "{\"model\":\"llama2\",\"created_at\":\"2023-10-08T15:04:52.553543013Z\",\"response\":\" when\",\"done\":false}\n",
            "{\"model\":\"llama2\",\"created_at\":\"2023-10-08T15:04:53.150426207Z\",\"response\":\" sun\",\"done\":false}\n",
            "{\"model\":\"llama2\",\"created_at\":\"2023-10-08T15:04:53.75210009Z\",\"response\":\"light\",\"done\":false}\n",
            "{\"model\":\"llama2\",\"created_at\":\"2023-10-08T15:04:54.363443747Z\",\"response\":\" enters\",\"done\":false}\n",
            "{\"model\":\"llama2\",\"created_at\":\"2023-10-08T15:04:54.978742332Z\",\"response\":\" Earth\",\"done\":false}\n",
            "{\"model\":\"llama2\",\"created_at\":\"2023-10-08T15:04:55.572564415Z\",\"response\":\"'\",\"done\":false}\n",
            "{\"model\":\"llama2\",\"created_at\":\"2023-10-08T15:04:56.189394264Z\",\"response\":\"s\",\"done\":false}\n",
            "{\"model\":\"llama2\",\"created_at\":\"2023-10-08T15:04:56.783527932Z\",\"response\":\" atmosphere\",\"done\":false}\n",
            "{\"model\":\"llama2\",\"created_at\":\"2023-10-08T15:04:58.789267899Z\",\"response\":\".\",\"done\":false}\n",
            "{\"model\":\"llama2\",\"created_at\":\"2023-10-08T15:05:04.125315754Z\",\"response\":\" The\",\"done\":false}\n",
            "{\"model\":\"llama2\",\"created_at\":\"2023-10-08T15:05:07.569599121Z\",\"response\":\" sun\",\"done\":false}\n",
            "{\"model\":\"llama2\",\"created_at\":\"2023-10-08T15:05:08.173416452Z\",\"response\":\"light\",\"done\":false}\n",
            "{\"model\":\"llama2\",\"created_at\":\"2023-10-08T15:05:08.787360877Z\",\"response\":\" enc\",\"done\":false}\n",
            "{\"model\":\"llama2\",\"created_at\":\"2023-10-08T15:05:09.389060186Z\",\"response\":\"oun\",\"done\":false}\n",
            "{\"model\":\"llama2\",\"created_at\":\"2023-10-08T15:05:10.008246298Z\",\"response\":\"ters\",\"done\":false}\n",
            "{\"model\":\"llama2\",\"created_at\":\"2023-10-08T15:05:10.610764115Z\",\"response\":\" tiny\",\"done\":false}\n",
            "{\"model\":\"llama2\",\"created_at\":\"2023-10-08T15:05:11.230214428Z\",\"response\":\" mole\",\"done\":false}\n",
            "{\"model\":\"llama2\",\"created_at\":\"2023-10-08T15:05:11.848473738Z\",\"response\":\"cules\",\"done\":false}\n",
            "{\"model\":\"llama2\",\"created_at\":\"2023-10-08T15:05:12.439287052Z\",\"response\":\" of\",\"done\":false}\n",
            "{\"model\":\"llama2\",\"created_at\":\"2023-10-08T15:05:13.069545787Z\",\"response\":\" g\",\"done\":false}\n",
            "{\"model\":\"llama2\",\"created_at\":\"2023-10-08T15:05:13.678057852Z\",\"response\":\"ases\",\"done\":false}\n",
            "{\"model\":\"llama2\",\"created_at\":\"2023-10-08T15:05:14.272718567Z\",\"response\":\" in\",\"done\":false}\n",
            "{\"model\":\"llama2\",\"created_at\":\"2023-10-08T15:05:14.879868048Z\",\"response\":\" the\",\"done\":false}\n",
            "{\"model\":\"llama2\",\"created_at\":\"2023-10-08T15:05:15.461272175Z\",\"response\":\" atmosphere\",\"done\":false}\n",
            "{\"model\":\"llama2\",\"created_at\":\"2023-10-08T15:05:16.080866528Z\",\"response\":\",\",\"done\":false}\n",
            "{\"model\":\"llama2\",\"created_at\":\"2023-10-08T15:05:16.695295423Z\",\"response\":\" such\",\"done\":false}\n",
            "{\"model\":\"llama2\",\"created_at\":\"2023-10-08T15:05:17.301035761Z\",\"response\":\" as\",\"done\":false}\n",
            "{\"model\":\"llama2\",\"created_at\":\"2023-10-08T15:05:20.374181096Z\",\"response\":\" nit\",\"done\":false}\n",
            "{\"model\":\"llama2\",\"created_at\":\"2023-10-08T15:05:25.575296871Z\",\"response\":\"ro\",\"done\":false}\n",
            "{\"model\":\"llama2\",\"created_at\":\"2023-10-08T15:05:28.006811736Z\",\"response\":\"gen\",\"done\":false}\n",
            "{\"model\":\"llama2\",\"created_at\":\"2023-10-08T15:05:28.623076436Z\",\"response\":\" and\",\"done\":false}\n",
            "{\"model\":\"llama2\",\"created_at\":\"2023-10-08T15:05:29.232445985Z\",\"response\":\" o\",\"done\":false}\n",
            "{\"model\":\"llama2\",\"created_at\":\"2023-10-08T15:05:29.819609074Z\",\"response\":\"xygen\",\"done\":false}\n",
            "{\"model\":\"llama2\",\"created_at\":\"2023-10-08T15:05:30.432251941Z\",\"response\":\",\",\"done\":false}\n",
            "{\"model\":\"llama2\",\"created_at\":\"2023-10-08T15:05:31.04602014Z\",\"response\":\" which\",\"done\":false}\n",
            "{\"model\":\"llama2\",\"created_at\":\"2023-10-08T15:05:31.662362459Z\",\"response\":\" scatter\",\"done\":false}\n",
            "{\"model\":\"llama2\",\"created_at\":\"2023-10-08T15:05:32.287718807Z\",\"response\":\" the\",\"done\":false}\n",
            "{\"model\":\"llama2\",\"created_at\":\"2023-10-08T15:05:32.921906361Z\",\"response\":\" light\",\"done\":false}\n",
            "{\"model\":\"llama2\",\"created_at\":\"2023-10-08T15:05:33.556669511Z\",\"response\":\" in\",\"done\":false}\n",
            "{\"model\":\"llama2\",\"created_at\":\"2023-10-08T15:05:34.167321734Z\",\"response\":\" all\",\"done\":false}\n",
            "{\"model\":\"llama2\",\"created_at\":\"2023-10-08T15:05:34.787761339Z\",\"response\":\" directions\",\"done\":false}\n",
            "{\"model\":\"llama2\",\"created_at\":\"2023-10-08T15:05:35.393926325Z\",\"response\":\".\",\"done\":false}\n",
            "{\"model\":\"llama2\",\"created_at\":\"2023-10-08T15:05:36.010176886Z\",\"response\":\"\\n\",\"done\":false}\n",
            "{\"model\":\"llama2\",\"created_at\":\"2023-10-08T15:05:36.628960978Z\",\"response\":\"\\n\",\"done\":false}\n",
            "{\"model\":\"llama2\",\"created_at\":\"2023-10-08T15:05:37.244838216Z\",\"response\":\"The\",\"done\":false}\n",
            "{\"model\":\"llama2\",\"created_at\":\"2023-10-08T15:05:37.86114702Z\",\"response\":\" short\",\"done\":false}\n",
            "{\"model\":\"llama2\",\"created_at\":\"2023-10-08T15:05:41.812778367Z\",\"response\":\"est\",\"done\":false}\n",
            "{\"model\":\"llama2\",\"created_at\":\"2023-10-08T15:05:47.096914392Z\",\"response\":\" w\",\"done\":false}\n",
            "{\"model\":\"llama2\",\"created_at\":\"2023-10-08T15:05:48.633702652Z\",\"response\":\"avel\",\"done\":false}\n",
            "{\"model\":\"llama2\",\"created_at\":\"2023-10-08T15:05:49.255523555Z\",\"response\":\"ength\",\"done\":false}\n",
            "{\"model\":\"llama2\",\"created_at\":\"2023-10-08T15:05:49.848986007Z\",\"response\":\"s\",\"done\":false}\n",
            "{\"model\":\"llama2\",\"created_at\":\"2023-10-08T15:05:50.47796421Z\",\"response\":\" of\",\"done\":false}\n",
            "{\"model\":\"llama2\",\"created_at\":\"2023-10-08T15:05:51.081874896Z\",\"response\":\" light\",\"done\":false}\n",
            "{\"model\":\"llama2\",\"created_at\":\"2023-10-08T15:05:51.686696314Z\",\"response\":\",\",\"done\":false}\n",
            "{\"model\":\"llama2\",\"created_at\":\"2023-10-08T15:05:52.30642216Z\",\"response\":\" such\",\"done\":false}\n",
            "{\"model\":\"llama2\",\"created_at\":\"2023-10-08T15:05:52.908283601Z\",\"response\":\" as\",\"done\":false}\n",
            "{\"model\":\"llama2\",\"created_at\":\"2023-10-08T15:05:53.519473491Z\",\"response\":\" vio\",\"done\":false}\n",
            "{\"model\":\"llama2\",\"created_at\":\"2023-10-08T15:05:54.116833188Z\",\"response\":\"let\",\"done\":false}\n",
            "{\"model\":\"llama2\",\"created_at\":\"2023-10-08T15:05:54.729881311Z\",\"response\":\" and\",\"done\":false}\n",
            "{\"model\":\"llama2\",\"created_at\":\"2023-10-08T15:05:55.335740146Z\",\"response\":\" blue\",\"done\":false}\n",
            "{\"model\":\"llama2\",\"created_at\":\"2023-10-08T15:05:55.939157254Z\",\"response\":\",\",\"done\":false}\n",
            "{\"model\":\"llama2\",\"created_at\":\"2023-10-08T15:05:56.546405636Z\",\"response\":\" are\",\"done\":false}\n",
            "{\"model\":\"llama2\",\"created_at\":\"2023-10-08T15:05:57.137917078Z\",\"response\":\" scattered\",\"done\":false}\n",
            "{\"model\":\"llama2\",\"created_at\":\"2023-10-08T15:05:57.764961501Z\",\"response\":\" more\",\"done\":false}\n",
            "{\"model\":\"llama2\",\"created_at\":\"2023-10-08T15:05:58.437346994Z\",\"response\":\" than\",\"done\":false}\n",
            "{\"model\":\"llama2\",\"created_at\":\"2023-10-08T15:06:03.372794557Z\",\"response\":\" other\",\"done\":false}\n",
            "{\"model\":\"llama2\",\"created_at\":\"2023-10-08T15:06:08.522321779Z\",\"response\":\" colors\",\"done\":false}\n",
            "{\"model\":\"llama2\",\"created_at\":\"2023-10-08T15:06:09.146379061Z\",\"response\":\" because\",\"done\":false}\n",
            "{\"model\":\"llama2\",\"created_at\":\"2023-10-08T15:06:09.758532675Z\",\"response\":\" they\",\"done\":false}\n",
            "{\"model\":\"llama2\",\"created_at\":\"2023-10-08T15:06:10.362679323Z\",\"response\":\" have\",\"done\":false}\n",
            "{\"model\":\"llama2\",\"created_at\":\"2023-10-08T15:06:10.987878322Z\",\"response\":\" a\",\"done\":false}\n",
            "{\"model\":\"llama2\",\"created_at\":\"2023-10-08T15:06:11.586840916Z\",\"response\":\" shorter\",\"done\":false}\n",
            "{\"model\":\"llama2\",\"created_at\":\"2023-10-08T15:06:12.207173583Z\",\"response\":\" wave\",\"done\":false}\n",
            "{\"model\":\"llama2\",\"created_at\":\"2023-10-08T15:06:12.795420868Z\",\"response\":\" length\",\"done\":false}\n",
            "{\"model\":\"llama2\",\"created_at\":\"2023-10-08T15:06:13.441236281Z\",\"response\":\".\",\"done\":false}\n",
            "{\"model\":\"llama2\",\"created_at\":\"2023-10-08T15:06:14.053181193Z\",\"response\":\" This\",\"done\":false}\n",
            "{\"model\":\"llama2\",\"created_at\":\"2023-10-08T15:06:14.662194323Z\",\"response\":\" is\",\"done\":false}\n",
            "{\"model\":\"llama2\",\"created_at\":\"2023-10-08T15:06:15.275441589Z\",\"response\":\" known\",\"done\":false}\n",
            "{\"model\":\"llama2\",\"created_at\":\"2023-10-08T15:06:15.881570017Z\",\"response\":\" as\",\"done\":false}\n",
            "{\"model\":\"llama2\",\"created_at\":\"2023-10-08T15:06:16.49434991Z\",\"response\":\" Ray\",\"done\":false}\n",
            "{\"model\":\"llama2\",\"created_at\":\"2023-10-08T15:06:17.115702321Z\",\"response\":\"le\",\"done\":false}\n",
            "{\"model\":\"llama2\",\"created_at\":\"2023-10-08T15:06:17.721515723Z\",\"response\":\"igh\",\"done\":false}\n",
            "{\"model\":\"llama2\",\"created_at\":\"2023-10-08T15:06:18.351650898Z\",\"response\":\" scatter\",\"done\":false}\n",
            "{\"model\":\"llama2\",\"created_at\":\"2023-10-08T15:06:20.005096355Z\",\"response\":\"ing\",\"done\":false}\n",
            "{\"model\":\"llama2\",\"created_at\":\"2023-10-08T15:06:24.187205697Z\",\"response\":\".\",\"done\":false}\n",
            "{\"model\":\"llama2\",\"created_at\":\"2023-10-08T15:06:28.798245686Z\",\"response\":\" As\",\"done\":false}\n",
            "{\"model\":\"llama2\",\"created_at\":\"2023-10-08T15:06:29.79845158Z\",\"response\":\" a\",\"done\":false}\n",
            "{\"model\":\"llama2\",\"created_at\":\"2023-10-08T15:06:30.389303902Z\",\"response\":\" result\",\"done\":false}\n",
            "{\"model\":\"llama2\",\"created_at\":\"2023-10-08T15:06:31.03050513Z\",\"response\":\" of\",\"done\":false}\n",
            "{\"model\":\"llama2\",\"created_at\":\"2023-10-08T15:06:31.63795397Z\",\"response\":\" this\",\"done\":false}\n",
            "{\"model\":\"llama2\",\"created_at\":\"2023-10-08T15:06:32.262764683Z\",\"response\":\" scatter\",\"done\":false}\n",
            "{\"model\":\"llama2\",\"created_at\":\"2023-10-08T15:06:32.890133367Z\",\"response\":\"ing\",\"done\":false}\n",
            "{\"model\":\"llama2\",\"created_at\":\"2023-10-08T15:06:33.484001629Z\",\"response\":\",\",\"done\":false}\n",
            "{\"model\":\"llama2\",\"created_at\":\"2023-10-08T15:06:34.101786547Z\",\"response\":\" the\",\"done\":false}\n",
            "{\"model\":\"llama2\",\"created_at\":\"2023-10-08T15:06:34.73513449Z\",\"response\":\" blue\",\"done\":false}\n",
            "{\"model\":\"llama2\",\"created_at\":\"2023-10-08T15:06:35.331078503Z\",\"response\":\" light\",\"done\":false}\n",
            "{\"model\":\"llama2\",\"created_at\":\"2023-10-08T15:06:35.965745856Z\",\"response\":\" is\",\"done\":false}\n",
            "{\"model\":\"llama2\",\"created_at\":\"2023-10-08T15:06:36.558578141Z\",\"response\":\" dispers\",\"done\":false}\n",
            "{\"model\":\"llama2\",\"created_at\":\"2023-10-08T15:06:37.188231136Z\",\"response\":\"ed\",\"done\":false}\n",
            "{\"model\":\"llama2\",\"created_at\":\"2023-10-08T15:06:37.815130692Z\",\"response\":\" throughout\",\"done\":false}\n",
            "{\"model\":\"llama2\",\"created_at\":\"2023-10-08T15:06:38.434660358Z\",\"response\":\" the\",\"done\":false}\n",
            "{\"model\":\"llama2\",\"created_at\":\"2023-10-08T15:06:39.059411148Z\",\"response\":\" atmosphere\",\"done\":false}\n",
            "{\"model\":\"llama2\",\"created_at\":\"2023-10-08T15:06:40.169176621Z\",\"response\":\",\",\"done\":false}\n",
            "{\"model\":\"llama2\",\"created_at\":\"2023-10-08T15:06:44.867243942Z\",\"response\":\" giving\",\"done\":false}\n",
            "{\"model\":\"llama2\",\"created_at\":\"2023-10-08T15:06:49.546108341Z\",\"response\":\" the\",\"done\":false}\n",
            "{\"model\":\"llama2\",\"created_at\":\"2023-10-08T15:06:50.435658105Z\",\"response\":\" sky\",\"done\":false}\n",
            "{\"model\":\"llama2\",\"created_at\":\"2023-10-08T15:06:51.037591814Z\",\"response\":\" its\",\"done\":false}\n",
            "{\"model\":\"llama2\",\"created_at\":\"2023-10-08T15:06:51.651667182Z\",\"response\":\" blue\",\"done\":false}\n",
            "{\"model\":\"llama2\",\"created_at\":\"2023-10-08T15:06:52.267362629Z\",\"response\":\" color\",\"done\":false}\n",
            "{\"model\":\"llama2\",\"created_at\":\"2023-10-08T15:06:52.880374207Z\",\"response\":\".\",\"done\":false}\n",
            "{\"model\":\"llama2\",\"created_at\":\"2023-10-08T15:06:53.508633096Z\",\"response\":\"\\n\",\"done\":false}\n",
            "{\"model\":\"llama2\",\"created_at\":\"2023-10-08T15:06:54.125138704Z\",\"response\":\"\\n\",\"done\":false}\n",
            "{\"model\":\"llama2\",\"created_at\":\"2023-10-08T15:06:54.753547032Z\",\"response\":\"The\",\"done\":false}\n",
            "{\"model\":\"llama2\",\"created_at\":\"2023-10-08T15:06:55.367397511Z\",\"response\":\" reason\",\"done\":false}\n",
            "{\"model\":\"llama2\",\"created_at\":\"2023-10-08T15:06:55.991993989Z\",\"response\":\" why\",\"done\":false}\n",
            "{\"model\":\"llama2\",\"created_at\":\"2023-10-08T15:06:56.619917474Z\",\"response\":\" the\",\"done\":false}\n",
            "{\"model\":\"llama2\",\"created_at\":\"2023-10-08T15:06:57.211082762Z\",\"response\":\" sky\",\"done\":false}\n",
            "{\"model\":\"llama2\",\"created_at\":\"2023-10-08T15:06:57.830370232Z\",\"response\":\" appears\",\"done\":false}\n",
            "{\"model\":\"llama2\",\"created_at\":\"2023-10-08T15:06:58.453441472Z\",\"response\":\" blue\",\"done\":false}\n",
            "{\"model\":\"llama2\",\"created_at\":\"2023-10-08T15:06:59.071656703Z\",\"response\":\" and\",\"done\":false}\n",
            "{\"model\":\"llama2\",\"created_at\":\"2023-10-08T15:06:59.689055637Z\",\"response\":\" not\",\"done\":false}\n",
            "{\"model\":\"llama2\",\"created_at\":\"2023-10-08T15:07:02.702702607Z\",\"response\":\" another\",\"done\":false}\n",
            "{\"model\":\"llama2\",\"created_at\":\"2023-10-08T15:07:08.057727644Z\",\"response\":\" color\",\"done\":false}\n",
            "{\"model\":\"llama2\",\"created_at\":\"2023-10-08T15:07:10.542056681Z\",\"response\":\" is\",\"done\":false}\n",
            "{\"model\":\"llama2\",\"created_at\":\"2023-10-08T15:07:11.153987435Z\",\"response\":\" due\",\"done\":false}\n",
            "{\"model\":\"llama2\",\"created_at\":\"2023-10-08T15:07:11.753898078Z\",\"response\":\" to\",\"done\":false}\n",
            "{\"model\":\"llama2\",\"created_at\":\"2023-10-08T15:07:12.380610481Z\",\"response\":\" the\",\"done\":false}\n",
            "{\"model\":\"llama2\",\"created_at\":\"2023-10-08T15:07:12.988171626Z\",\"response\":\" specific\",\"done\":false}\n",
            "{\"model\":\"llama2\",\"created_at\":\"2023-10-08T15:07:13.617241546Z\",\"response\":\" w\",\"done\":false}\n",
            "{\"model\":\"llama2\",\"created_at\":\"2023-10-08T15:07:14.253995054Z\",\"response\":\"avel\",\"done\":false}\n",
            "{\"model\":\"llama2\",\"created_at\":\"2023-10-08T15:07:14.879196919Z\",\"response\":\"ength\",\"done\":false}\n",
            "{\"model\":\"llama2\",\"created_at\":\"2023-10-08T15:07:15.524019682Z\",\"response\":\"s\",\"done\":false}\n",
            "{\"model\":\"llama2\",\"created_at\":\"2023-10-08T15:07:16.125830772Z\",\"response\":\" of\",\"done\":false}\n",
            "{\"model\":\"llama2\",\"created_at\":\"2023-10-08T15:07:16.754690794Z\",\"response\":\" light\",\"done\":false}\n",
            "{\"model\":\"llama2\",\"created_at\":\"2023-10-08T15:07:17.378895041Z\",\"response\":\" that\",\"done\":false}\n",
            "{\"model\":\"llama2\",\"created_at\":\"2023-10-08T15:07:17.971450473Z\",\"response\":\" are\",\"done\":false}\n",
            "{\"model\":\"llama2\",\"created_at\":\"2023-10-08T15:07:18.597211848Z\",\"response\":\" scattered\",\"done\":false}\n",
            "{\"model\":\"llama2\",\"created_at\":\"2023-10-08T15:07:19.212545235Z\",\"response\":\".\",\"done\":false}\n",
            "{\"model\":\"llama2\",\"created_at\":\"2023-10-08T15:07:19.858731816Z\",\"response\":\" The\",\"done\":false}\n",
            "{\"model\":\"llama2\",\"created_at\":\"2023-10-08T15:07:21.220632115Z\",\"response\":\" human\",\"done\":false}\n",
            "{\"model\":\"llama2\",\"created_at\":\"2023-10-08T15:07:26.397886965Z\",\"response\":\" eye\",\"done\":false}\n",
            "{\"model\":\"llama2\",\"created_at\":\"2023-10-08T15:07:30.643366311Z\",\"response\":\" is\",\"done\":false}\n",
            "{\"model\":\"llama2\",\"created_at\":\"2023-10-08T15:07:31.264533185Z\",\"response\":\" most\",\"done\":false}\n",
            "{\"model\":\"llama2\",\"created_at\":\"2023-10-08T15:07:31.890142663Z\",\"response\":\" sensitive\",\"done\":false}\n",
            "{\"model\":\"llama2\",\"created_at\":\"2023-10-08T15:07:32.525339412Z\",\"response\":\" to\",\"done\":false}\n",
            "{\"model\":\"llama2\",\"created_at\":\"2023-10-08T15:07:33.161566798Z\",\"response\":\" light\",\"done\":false}\n",
            "{\"model\":\"llama2\",\"created_at\":\"2023-10-08T15:07:33.76266552Z\",\"response\":\" in\",\"done\":false}\n",
            "{\"model\":\"llama2\",\"created_at\":\"2023-10-08T15:07:34.402574657Z\",\"response\":\" the\",\"done\":false}\n",
            "{\"model\":\"llama2\",\"created_at\":\"2023-10-08T15:07:35.029658977Z\",\"response\":\" yellow\",\"done\":false}\n",
            "{\"model\":\"llama2\",\"created_at\":\"2023-10-08T15:07:35.644657773Z\",\"response\":\" and\",\"done\":false}\n",
            "{\"model\":\"llama2\",\"created_at\":\"2023-10-08T15:07:36.258731138Z\",\"response\":\" red\",\"done\":false}\n",
            "{\"model\":\"llama2\",\"created_at\":\"2023-10-08T15:07:36.877909394Z\",\"response\":\" spectrum\",\"done\":false}\n",
            "{\"model\":\"llama2\",\"created_at\":\"2023-10-08T15:07:37.507075673Z\",\"response\":\",\",\"done\":false}\n",
            "{\"model\":\"llama2\",\"created_at\":\"2023-10-08T15:07:38.123604463Z\",\"response\":\" so\",\"done\":false}\n",
            "{\"model\":\"llama2\",\"created_at\":\"2023-10-08T15:07:38.733180523Z\",\"response\":\" these\",\"done\":false}\n",
            "{\"model\":\"llama2\",\"created_at\":\"2023-10-08T15:07:39.373214933Z\",\"response\":\" colors\",\"done\":false}\n",
            "{\"model\":\"llama2\",\"created_at\":\"2023-10-08T15:07:39.973389918Z\",\"response\":\" appear\",\"done\":false}\n",
            "{\"model\":\"llama2\",\"created_at\":\"2023-10-08T15:07:40.692836163Z\",\"response\":\" more\",\"done\":false}\n",
            "{\"model\":\"llama2\",\"created_at\":\"2023-10-08T15:07:45.308473441Z\",\"response\":\" inten\",\"done\":false}\n",
            "{\"model\":\"llama2\",\"created_at\":\"2023-10-08T15:07:50.74537396Z\",\"response\":\"se\",\"done\":false}\n",
            "{\"model\":\"llama2\",\"created_at\":\"2023-10-08T15:07:51.390486108Z\",\"response\":\" to\",\"done\":false}\n",
            "{\"model\":\"llama2\",\"created_at\":\"2023-10-08T15:07:52.010768131Z\",\"response\":\" us\",\"done\":false}\n",
            "{\"model\":\"llama2\",\"created_at\":\"2023-10-08T15:07:52.616320788Z\",\"response\":\" than\",\"done\":false}\n",
            "{\"model\":\"llama2\",\"created_at\":\"2023-10-08T15:07:53.247273764Z\",\"response\":\" the\",\"done\":false}\n",
            "{\"model\":\"llama2\",\"created_at\":\"2023-10-08T15:07:53.871630244Z\",\"response\":\" blue\",\"done\":false}\n",
            "{\"model\":\"llama2\",\"created_at\":\"2023-10-08T15:07:54.478498565Z\",\"response\":\" and\",\"done\":false}\n",
            "{\"model\":\"llama2\",\"created_at\":\"2023-10-08T15:07:55.105090126Z\",\"response\":\" vio\",\"done\":false}\n",
            "{\"model\":\"llama2\",\"created_at\":\"2023-10-08T15:07:55.718700887Z\",\"response\":\"let\",\"done\":false}\n",
            "{\"model\":\"llama2\",\"created_at\":\"2023-10-08T15:07:56.371113665Z\",\"response\":\" colors\",\"done\":false}\n",
            "{\"model\":\"llama2\",\"created_at\":\"2023-10-08T15:07:57.014428562Z\",\"response\":\".\",\"done\":false}\n",
            "{\"model\":\"llama2\",\"created_at\":\"2023-10-08T15:07:57.619728473Z\",\"response\":\" This\",\"done\":false}\n",
            "{\"model\":\"llama2\",\"created_at\":\"2023-10-08T15:07:58.255506762Z\",\"response\":\" is\",\"done\":false}\n",
            "{\"model\":\"llama2\",\"created_at\":\"2023-10-08T15:07:58.889085962Z\",\"response\":\" why\",\"done\":false}\n",
            "{\"model\":\"llama2\",\"created_at\":\"2023-10-08T15:07:59.499278558Z\",\"response\":\" the\",\"done\":false}\n",
            "{\"model\":\"llama2\",\"created_at\":\"2023-10-08T15:08:00.118562613Z\",\"response\":\" sky\",\"done\":false}\n",
            "{\"model\":\"llama2\",\"created_at\":\"2023-10-08T15:08:00.733086419Z\",\"response\":\" often\",\"done\":false}\n",
            "{\"model\":\"llama2\",\"created_at\":\"2023-10-08T15:08:04.024584036Z\",\"response\":\" appears\",\"done\":false}\n",
            "{\"model\":\"llama2\",\"created_at\":\"2023-10-08T15:08:08.709869068Z\",\"response\":\" more\",\"done\":false}\n",
            "{\"model\":\"llama2\",\"created_at\":\"2023-10-08T15:08:11.467651551Z\",\"response\":\" yellow\",\"done\":false}\n",
            "{\"model\":\"llama2\",\"created_at\":\"2023-10-08T15:08:12.076466007Z\",\"response\":\" or\",\"done\":false}\n",
            "{\"model\":\"llama2\",\"created_at\":\"2023-10-08T15:08:12.707786709Z\",\"response\":\" orange\",\"done\":false}\n",
            "{\"model\":\"llama2\",\"created_at\":\"2023-10-08T15:08:13.314774683Z\",\"response\":\" during\",\"done\":false}\n",
            "{\"model\":\"llama2\",\"created_at\":\"2023-10-08T15:08:13.944020153Z\",\"response\":\" sun\",\"done\":false}\n",
            "{\"model\":\"llama2\",\"created_at\":\"2023-10-08T15:08:14.569389131Z\",\"response\":\"r\",\"done\":false}\n",
            "{\"model\":\"llama2\",\"created_at\":\"2023-10-08T15:08:15.183692069Z\",\"response\":\"ise\",\"done\":false}\n",
            "{\"model\":\"llama2\",\"created_at\":\"2023-10-08T15:08:15.817257722Z\",\"response\":\" and\",\"done\":false}\n",
            "{\"model\":\"llama2\",\"created_at\":\"2023-10-08T15:08:16.422685686Z\",\"response\":\" sun\",\"done\":false}\n",
            "{\"model\":\"llama2\",\"created_at\":\"2023-10-08T15:08:17.073789325Z\",\"response\":\"set\",\"done\":false}\n",
            "{\"model\":\"llama2\",\"created_at\":\"2023-10-08T15:08:17.698726919Z\",\"response\":\",\",\"done\":false}\n",
            "{\"model\":\"llama2\",\"created_at\":\"2023-10-08T15:08:18.314579066Z\",\"response\":\" when\",\"done\":false}\n",
            "{\"model\":\"llama2\",\"created_at\":\"2023-10-08T15:08:18.941888911Z\",\"response\":\" the\",\"done\":false}\n",
            "{\"model\":\"llama2\",\"created_at\":\"2023-10-08T15:08:19.5584462Z\",\"response\":\" light\",\"done\":false}\n",
            "{\"model\":\"llama2\",\"created_at\":\"2023-10-08T15:08:20.199825577Z\",\"response\":\" has\",\"done\":false}\n",
            "{\"model\":\"llama2\",\"created_at\":\"2023-10-08T15:08:20.829052892Z\",\"response\":\" to\",\"done\":false}\n",
            "{\"model\":\"llama2\",\"created_at\":\"2023-10-08T15:08:23.104163769Z\",\"response\":\" travel\",\"done\":false}\n",
            "{\"model\":\"llama2\",\"created_at\":\"2023-10-08T15:08:27.287587775Z\",\"response\":\" through\",\"done\":false}\n",
            "{\"model\":\"llama2\",\"created_at\":\"2023-10-08T15:08:31.566686218Z\",\"response\":\" more\",\"done\":false}\n",
            "{\"model\":\"llama2\",\"created_at\":\"2023-10-08T15:08:32.171877456Z\",\"response\":\" of\",\"done\":false}\n",
            "{\"model\":\"llama2\",\"created_at\":\"2023-10-08T15:08:32.823618431Z\",\"response\":\" the\",\"done\":false}\n",
            "{\"model\":\"llama2\",\"created_at\":\"2023-10-08T15:08:33.449397437Z\",\"response\":\" atmosphere\",\"done\":false}\n",
            "{\"model\":\"llama2\",\"created_at\":\"2023-10-08T15:08:34.071480492Z\",\"response\":\" to\",\"done\":false}\n",
            "{\"model\":\"llama2\",\"created_at\":\"2023-10-08T15:08:34.706610499Z\",\"response\":\" reach\",\"done\":false}\n",
            "{\"model\":\"llama2\",\"created_at\":\"2023-10-08T15:08:35.340970881Z\",\"response\":\" our\",\"done\":false}\n",
            "{\"model\":\"llama2\",\"created_at\":\"2023-10-08T15:08:35.940747947Z\",\"response\":\" eyes\",\"done\":false}\n",
            "{\"model\":\"llama2\",\"created_at\":\"2023-10-08T15:08:36.588222756Z\",\"response\":\".\",\"done\":false}\n",
            "{\"model\":\"llama2\",\"created_at\":\"2023-10-08T15:08:37.20927401Z\",\"response\":\"\\n\",\"done\":false}\n",
            "{\"model\":\"llama2\",\"created_at\":\"2023-10-08T15:08:37.851421423Z\",\"response\":\"\\n\",\"done\":false}\n",
            "{\"model\":\"llama2\",\"created_at\":\"2023-10-08T15:08:38.491041185Z\",\"response\":\"It\",\"done\":false}\n",
            "{\"model\":\"llama2\",\"created_at\":\"2023-10-08T15:08:39.098997213Z\",\"response\":\"'\",\"done\":false}\n",
            "{\"model\":\"llama2\",\"created_at\":\"2023-10-08T15:08:39.73909159Z\",\"response\":\"s\",\"done\":false}\n",
            "{\"model\":\"llama2\",\"created_at\":\"2023-10-08T15:08:40.36265881Z\",\"response\":\" also\",\"done\":false}\n",
            "{\"model\":\"llama2\",\"created_at\":\"2023-10-08T15:08:41.008367107Z\",\"response\":\" worth\",\"done\":false}\n",
            "{\"model\":\"llama2\",\"created_at\":\"2023-10-08T15:08:41.7441719Z\",\"response\":\" not\",\"done\":false}\n",
            "{\"model\":\"llama2\",\"created_at\":\"2023-10-08T15:08:46.121190568Z\",\"response\":\"ing\",\"done\":false}\n",
            "{\"model\":\"llama2\",\"created_at\":\"2023-10-08T15:08:51.417335047Z\",\"response\":\" that\",\"done\":false}\n",
            "{\"model\":\"llama2\",\"created_at\":\"2023-10-08T15:08:52.344651055Z\",\"response\":\" the\",\"done\":false}\n",
            "{\"model\":\"llama2\",\"created_at\":\"2023-10-08T15:08:52.964787005Z\",\"response\":\" color\",\"done\":false}\n",
            "{\"model\":\"llama2\",\"created_at\":\"2023-10-08T15:08:53.597632284Z\",\"response\":\" of\",\"done\":false}\n",
            "{\"model\":\"llama2\",\"created_at\":\"2023-10-08T15:08:54.229558115Z\",\"response\":\" the\",\"done\":false}\n",
            "{\"model\":\"llama2\",\"created_at\":\"2023-10-08T15:08:54.825120319Z\",\"response\":\" sky\",\"done\":false}\n",
            "{\"model\":\"llama2\",\"created_at\":\"2023-10-08T15:08:55.471954775Z\",\"response\":\" can\",\"done\":false}\n",
            "{\"model\":\"llama2\",\"created_at\":\"2023-10-08T15:08:56.079623872Z\",\"response\":\" appear\",\"done\":false}\n",
            "{\"model\":\"llama2\",\"created_at\":\"2023-10-08T15:08:56.711576176Z\",\"response\":\" different\",\"done\":false}\n",
            "{\"model\":\"llama2\",\"created_at\":\"2023-10-08T15:08:57.354775834Z\",\"response\":\" under\",\"done\":false}\n",
            "{\"model\":\"llama2\",\"created_at\":\"2023-10-08T15:08:57.970668024Z\",\"response\":\" different\",\"done\":false}\n",
            "{\"model\":\"llama2\",\"created_at\":\"2023-10-08T15:08:58.612021813Z\",\"response\":\" conditions\",\"done\":false}\n",
            "{\"model\":\"llama2\",\"created_at\":\"2023-10-08T15:08:59.255215856Z\",\"response\":\".\",\"done\":false}\n",
            "{\"model\":\"llama2\",\"created_at\":\"2023-10-08T15:08:59.885157413Z\",\"response\":\" For\",\"done\":false}\n",
            "{\"model\":\"llama2\",\"created_at\":\"2023-10-08T15:09:00.515745562Z\",\"response\":\" example\",\"done\":false}\n",
            "{\"model\":\"llama2\",\"created_at\":\"2023-10-08T15:09:01.132439906Z\",\"response\":\",\",\"done\":false}\n",
            "{\"model\":\"llama2\",\"created_at\":\"2023-10-08T15:09:01.767473991Z\",\"response\":\" during\",\"done\":false}\n",
            "{\"model\":\"llama2\",\"created_at\":\"2023-10-08T15:09:06.30970428Z\",\"response\":\" a\",\"done\":false}\n",
            "{\"model\":\"llama2\",\"created_at\":\"2023-10-08T15:09:11.716128302Z\",\"response\":\" sun\",\"done\":false}\n",
            "{\"model\":\"llama2\",\"created_at\":\"2023-10-08T15:09:12.612294731Z\",\"response\":\"ny\",\"done\":false}\n",
            "{\"model\":\"llama2\",\"created_at\":\"2023-10-08T15:09:13.256506991Z\",\"response\":\" day\",\"done\":false}\n",
            "{\"model\":\"llama2\",\"created_at\":\"2023-10-08T15:09:13.890152178Z\",\"response\":\",\",\"done\":false}\n",
            "{\"model\":\"llama2\",\"created_at\":\"2023-10-08T15:09:14.516095827Z\",\"response\":\" the\",\"done\":false}\n",
            "{\"model\":\"llama2\",\"created_at\":\"2023-10-08T15:09:15.148505136Z\",\"response\":\" sky\",\"done\":false}\n",
            "{\"model\":\"llama2\",\"created_at\":\"2023-10-08T15:09:15.756425073Z\",\"response\":\" may\",\"done\":false}\n",
            "{\"model\":\"llama2\",\"created_at\":\"2023-10-08T15:09:16.402085574Z\",\"response\":\" appear\",\"done\":false}\n",
            "{\"model\":\"llama2\",\"created_at\":\"2023-10-08T15:09:17.035520299Z\",\"response\":\" more\",\"done\":false}\n",
            "{\"model\":\"llama2\",\"created_at\":\"2023-10-08T15:09:17.655052761Z\",\"response\":\" blue\",\"done\":false}\n",
            "{\"model\":\"llama2\",\"created_at\":\"2023-10-08T15:09:18.295139495Z\",\"response\":\" because\",\"done\":false}\n",
            "{\"model\":\"llama2\",\"created_at\":\"2023-10-08T15:09:18.903261545Z\",\"response\":\" there\",\"done\":false}\n",
            "{\"model\":\"llama2\",\"created_at\":\"2023-10-08T15:09:19.55009461Z\",\"response\":\" is\",\"done\":false}\n",
            "{\"model\":\"llama2\",\"created_at\":\"2023-10-08T15:09:20.218300167Z\",\"response\":\" less\",\"done\":false}\n",
            "{\"model\":\"llama2\",\"created_at\":\"2023-10-08T15:09:20.83422303Z\",\"response\":\" dust\",\"done\":false}\n",
            "{\"model\":\"llama2\",\"created_at\":\"2023-10-08T15:09:21.472303831Z\",\"response\":\" and\",\"done\":false}\n",
            "{\"model\":\"llama2\",\"created_at\":\"2023-10-08T15:09:22.140142979Z\",\"response\":\" water\",\"done\":false}\n",
            "{\"model\":\"llama2\",\"created_at\":\"2023-10-08T15:09:25.009183937Z\",\"response\":\" v\",\"done\":false}\n",
            "{\"model\":\"llama2\",\"created_at\":\"2023-10-08T15:09:30.239437029Z\",\"response\":\"apor\",\"done\":false}\n",
            "{\"model\":\"llama2\",\"created_at\":\"2023-10-08T15:09:32.876774584Z\",\"response\":\" in\",\"done\":false}\n",
            "{\"model\":\"llama2\",\"created_at\":\"2023-10-08T15:09:33.488668372Z\",\"response\":\" the\",\"done\":false}\n",
            "{\"model\":\"llama2\",\"created_at\":\"2023-10-08T15:09:34.122877532Z\",\"response\":\" atmosphere\",\"done\":false}\n",
            "{\"model\":\"llama2\",\"created_at\":\"2023-10-08T15:09:34.766253294Z\",\"response\":\" to\",\"done\":false}\n",
            "{\"model\":\"llama2\",\"created_at\":\"2023-10-08T15:09:35.370810089Z\",\"response\":\" scatter\",\"done\":false}\n",
            "{\"model\":\"llama2\",\"created_at\":\"2023-10-08T15:09:36.002092358Z\",\"response\":\" the\",\"done\":false}\n",
            "{\"model\":\"llama2\",\"created_at\":\"2023-10-08T15:09:36.635056953Z\",\"response\":\" light\",\"done\":false}\n",
            "{\"model\":\"llama2\",\"created_at\":\"2023-10-08T15:09:37.259530594Z\",\"response\":\".\",\"done\":false}\n",
            "{\"model\":\"llama2\",\"created_at\":\"2023-10-08T15:09:37.895952046Z\",\"response\":\" On\",\"done\":false}\n",
            "{\"model\":\"llama2\",\"created_at\":\"2023-10-08T15:09:38.521639869Z\",\"response\":\" the\",\"done\":false}\n",
            "{\"model\":\"llama2\",\"created_at\":\"2023-10-08T15:09:39.162808097Z\",\"response\":\" other\",\"done\":false}\n",
            "{\"model\":\"llama2\",\"created_at\":\"2023-10-08T15:09:39.800183524Z\",\"response\":\" hand\",\"done\":false}\n",
            "{\"model\":\"llama2\",\"created_at\":\"2023-10-08T15:09:40.427806841Z\",\"response\":\",\",\"done\":false}\n",
            "{\"model\":\"llama2\",\"created_at\":\"2023-10-08T15:09:41.085235953Z\",\"response\":\" during\",\"done\":false}\n",
            "{\"model\":\"llama2\",\"created_at\":\"2023-10-08T15:09:41.712046763Z\",\"response\":\" a\",\"done\":false}\n",
            "{\"model\":\"llama2\",\"created_at\":\"2023-10-08T15:09:42.352014956Z\",\"response\":\" sun\",\"done\":false}\n",
            "{\"model\":\"llama2\",\"created_at\":\"2023-10-08T15:09:43.485596824Z\",\"response\":\"set\",\"done\":false}\n",
            "{\"model\":\"llama2\",\"created_at\":\"2023-10-08T15:09:48.119204465Z\",\"response\":\",\",\"done\":false}\n",
            "{\"model\":\"llama2\",\"created_at\":\"2023-10-08T15:09:53.173580084Z\",\"response\":\" the\",\"done\":false}\n",
            "{\"model\":\"llama2\",\"created_at\":\"2023-10-08T15:09:53.808232778Z\",\"response\":\" sky\",\"done\":false}\n",
            "{\"model\":\"llama2\",\"created_at\":\"2023-10-08T15:09:54.448521058Z\",\"response\":\" may\",\"done\":false}\n",
            "{\"model\":\"llama2\",\"created_at\":\"2023-10-08T15:09:55.05477431Z\",\"response\":\" appear\",\"done\":false}\n",
            "{\"model\":\"llama2\",\"created_at\":\"2023-10-08T15:09:55.697710113Z\",\"response\":\" more\",\"done\":false}\n",
            "{\"model\":\"llama2\",\"created_at\":\"2023-10-08T15:09:56.308510059Z\",\"response\":\" orange\",\"done\":false}\n",
            "{\"model\":\"llama2\",\"created_at\":\"2023-10-08T15:09:56.959775109Z\",\"response\":\" or\",\"done\":false}\n",
            "{\"model\":\"llama2\",\"created_at\":\"2023-10-08T15:09:57.591094355Z\",\"response\":\" red\",\"done\":false}\n",
            "{\"model\":\"llama2\",\"created_at\":\"2023-10-08T15:09:58.197870077Z\",\"response\":\" because\",\"done\":false}\n",
            "{\"model\":\"llama2\",\"created_at\":\"2023-10-08T15:09:58.828816813Z\",\"response\":\" the\",\"done\":false}\n",
            "{\"model\":\"llama2\",\"created_at\":\"2023-10-08T15:09:59.444648921Z\",\"response\":\" light\",\"done\":false}\n",
            "{\"model\":\"llama2\",\"created_at\":\"2023-10-08T15:10:00.082770379Z\",\"response\":\" has\",\"done\":false}\n",
            "{\"model\":\"llama2\",\"created_at\":\"2023-10-08T15:10:00.708758201Z\",\"response\":\" to\",\"done\":false}\n",
            "{\"model\":\"llama2\",\"created_at\":\"2023-10-08T15:10:01.340407374Z\",\"response\":\" travel\",\"done\":false}\n",
            "{\"model\":\"llama2\",\"created_at\":\"2023-10-08T15:10:01.988621631Z\",\"response\":\" through\",\"done\":false}\n",
            "{\"model\":\"llama2\",\"created_at\":\"2023-10-08T15:10:02.645529033Z\",\"response\":\" more\",\"done\":false}\n",
            "{\"model\":\"llama2\",\"created_at\":\"2023-10-08T15:10:03.346340734Z\",\"response\":\" of\",\"done\":false}\n",
            "{\"model\":\"llama2\",\"created_at\":\"2023-10-08T15:10:08.450128357Z\",\"response\":\" the\",\"done\":false}\n",
            "{\"model\":\"llama2\",\"created_at\":\"2023-10-08T15:10:12.70287546Z\",\"response\":\" atmosphere\",\"done\":false}\n",
            "{\"model\":\"llama2\",\"created_at\":\"2023-10-08T15:10:14.080473309Z\",\"response\":\",\",\"done\":false}\n",
            "{\"model\":\"llama2\",\"created_at\":\"2023-10-08T15:10:14.705002802Z\",\"response\":\" which\",\"done\":false}\n",
            "{\"model\":\"llama2\",\"created_at\":\"2023-10-08T15:10:15.341408313Z\",\"response\":\" sc\",\"done\":false}\n",
            "{\"model\":\"llama2\",\"created_at\":\"2023-10-08T15:10:15.957622056Z\",\"response\":\"at\",\"done\":false}\n",
            "{\"model\":\"llama2\",\"created_at\":\"2023-10-08T15:10:16.597846666Z\",\"response\":\"ters\",\"done\":false}\n",
            "{\"model\":\"llama2\",\"created_at\":\"2023-10-08T15:10:17.238147237Z\",\"response\":\" the\",\"done\":false}\n",
            "{\"model\":\"llama2\",\"created_at\":\"2023-10-08T15:10:17.865330192Z\",\"response\":\" shorter\",\"done\":false}\n",
            "{\"model\":\"llama2\",\"created_at\":\"2023-10-08T15:10:18.498782231Z\",\"response\":\" w\",\"done\":false}\n",
            "{\"model\":\"llama2\",\"created_at\":\"2023-10-08T15:10:19.121892357Z\",\"response\":\"avel\",\"done\":false}\n",
            "{\"model\":\"llama2\",\"created_at\":\"2023-10-08T15:10:19.7658035Z\",\"response\":\"ength\",\"done\":false}\n",
            "{\"model\":\"llama2\",\"created_at\":\"2023-10-08T15:10:20.428405608Z\",\"response\":\"s\",\"done\":false}\n",
            "{\"model\":\"llama2\",\"created_at\":\"2023-10-08T15:10:21.059633902Z\",\"response\":\" of\",\"done\":false}\n",
            "{\"model\":\"llama2\",\"created_at\":\"2023-10-08T15:10:21.701386011Z\",\"response\":\" light\",\"done\":false}\n",
            "{\"model\":\"llama2\",\"created_at\":\"2023-10-08T15:10:22.347124193Z\",\"response\":\",\",\"done\":false}\n",
            "{\"model\":\"llama2\",\"created_at\":\"2023-10-08T15:10:22.986496925Z\",\"response\":\" such\",\"done\":false}\n",
            "{\"model\":\"llama2\",\"created_at\":\"2023-10-08T15:10:23.629291984Z\",\"response\":\" as\",\"done\":false}\n",
            "{\"model\":\"llama2\",\"created_at\":\"2023-10-08T15:10:27.05472571Z\",\"response\":\" blue\",\"done\":false}\n",
            "{\"model\":\"llama2\",\"created_at\":\"2023-10-08T15:10:32.47295932Z\",\"response\":\" and\",\"done\":false}\n",
            "{\"model\":\"llama2\",\"created_at\":\"2023-10-08T15:10:34.40749193Z\",\"response\":\" vio\",\"done\":false}\n",
            "{\"model\":\"llama2\",\"created_at\":\"2023-10-08T15:10:35.059688915Z\",\"response\":\"let\",\"done\":false}\n",
            "{\"model\":\"llama2\",\"created_at\":\"2023-10-08T15:10:35.672134249Z\",\"response\":\",\",\"done\":false}\n",
            "{\"model\":\"llama2\",\"created_at\":\"2023-10-08T15:10:36.293498658Z\",\"response\":\" more\",\"done\":false}\n",
            "{\"model\":\"llama2\",\"created_at\":\"2023-10-08T15:10:36.935546568Z\",\"response\":\" than\",\"done\":false}\n",
            "{\"model\":\"llama2\",\"created_at\":\"2023-10-08T15:10:37.568617051Z\",\"response\":\" the\",\"done\":false}\n",
            "{\"model\":\"llama2\",\"created_at\":\"2023-10-08T15:10:38.198074839Z\",\"response\":\" longer\",\"done\":false}\n",
            "{\"model\":\"llama2\",\"created_at\":\"2023-10-08T15:10:38.829956032Z\",\"response\":\" w\",\"done\":false}\n",
            "{\"model\":\"llama2\",\"created_at\":\"2023-10-08T15:10:39.477263952Z\",\"response\":\"avel\",\"done\":false}\n",
            "{\"model\":\"llama2\",\"created_at\":\"2023-10-08T15:10:40.12489985Z\",\"response\":\"ength\",\"done\":false}\n",
            "{\"model\":\"llama2\",\"created_at\":\"2023-10-08T15:10:40.754370384Z\",\"response\":\"s\",\"done\":false}\n",
            "{\"model\":\"llama2\",\"created_at\":\"2023-10-08T15:10:41.400608164Z\",\"response\":\",\",\"done\":false}\n",
            "{\"model\":\"llama2\",\"created_at\":\"2023-10-08T15:10:42.019748976Z\",\"response\":\" such\",\"done\":false}\n",
            "{\"model\":\"llama2\",\"created_at\":\"2023-10-08T15:10:42.645774484Z\",\"response\":\" as\",\"done\":false}\n",
            "{\"model\":\"llama2\",\"created_at\":\"2023-10-08T15:10:43.305369264Z\",\"response\":\" red\",\"done\":false}\n",
            "{\"model\":\"llama2\",\"created_at\":\"2023-10-08T15:10:43.924279866Z\",\"response\":\" and\",\"done\":false}\n",
            "{\"model\":\"llama2\",\"created_at\":\"2023-10-08T15:10:47.389761387Z\",\"response\":\" orange\",\"done\":false}\n",
            "{\"model\":\"llama2\",\"created_at\":\"2023-10-08T15:10:51.943408148Z\",\"response\":\".\",\"done\":false}\n",
            "{\"model\":\"llama2\",\"created_at\":\"2023-10-08T15:10:54.658156716Z\",\"done\":true,\"context\":[29961,25580,29962,3532,14816,29903,29958,5299,829,14816,29903,6778,13,13,11008,338,278,14744,7254,29973,518,29914,25580,29962,29871,450,14744,5692,7254,1363,310,263,27791,265,2000,9596,280,1141,14801,292,29892,607,10008,746,6575,4366,24395,11563,29915,29879,25005,29889,450,6575,4366,2094,1309,2153,21577,13206,21337,310,330,2129,297,278,25005,29892,1316,408,21767,307,1885,322,288,28596,29892,607,14801,278,3578,297,599,18112,29889,13,13,1576,3273,342,281,6447,1477,29879,310,3578,29892,1316,408,28008,1026,322,7254,29892,526,29574,901,1135,916,11955,1363,896,505,263,20511,10742,3309,29889,910,338,2998,408,9596,280,1141,14801,292,29889,1094,263,1121,310,445,14801,292,29892,278,7254,3578,338,29106,287,10106,278,25005,29892,6820,278,14744,967,7254,2927,29889,13,13,1576,2769,2020,278,14744,5692,7254,322,451,1790,2927,338,2861,304,278,2702,281,6447,1477,29879,310,3578,393,526,29574,29889,450,5199,10977,338,1556,20502,304,3578,297,278,13328,322,2654,18272,29892,577,1438,11955,2615,901,17818,344,304,502,1135,278,7254,322,28008,1026,11955,29889,910,338,2020,278,14744,4049,5692,901,13328,470,24841,2645,6575,29878,895,322,6575,842,29892,746,278,3578,756,304,9850,1549,901,310,278,25005,304,6159,1749,5076,29889,13,13,3112,29915,29879,884,7088,451,292,393,278,2927,310,278,14744,508,2615,1422,1090,1422,5855,29889,1152,1342,29892,2645,263,6575,1460,2462,29892,278,14744,1122,2615,901,7254,1363,727,338,3109,19786,322,4094,325,26191,297,278,25005,304,14801,278,3578,29889,1551,278,916,1361,29892,2645,263,6575,842,29892,278,14744,1122,2615,901,24841,470,2654,1363,278,3578,756,304,9850,1549,901,310,278,25005,29892,607,885,271,2153,278,20511,281,6447,1477,29879,310,3578,29892,1316,408,7254,322,28008,1026,29892,901,1135,278,5520,281,6447,1477,29879,29892,1316,408,2654,322,24841,29889],\"total_duration\":407756811961,\"load_duration\":2584811372,\"prompt_eval_count\":26,\"prompt_eval_duration\":23171921000,\"eval_count\":342,\"eval_duration\":381407859000}\n"
          ]
        }
      ]
    },
    {
      "cell_type": "code",
      "source": [
        "!ps aux | grep olla"
      ],
      "metadata": {
        "colab": {
          "base_uri": "https://localhost:8080/"
        },
        "id": "AZqAdPKc0Kyl",
        "outputId": "ad3edcc7-d9ed-474f-8b09-017604776407"
      },
      "execution_count": 47,
      "outputs": [
        {
          "output_type": "stream",
          "name": "stdout",
          "text": [
            "root        5980  0.2  5.1 2427852 678336 ?      Sl   15:03   0:01 ollama serve\n",
            "root        6055  104 32.6 5128036 4336796 ?     Sl   15:04   9:45 /tmp/ollama137593888/llama.cpp/ggml/build/cpu/bin/server --model /root/.ollama/models/blobs/sha256:8daa9615cce30c259a9555b1cc250d461d1bc69980a274b44d7eda0be78076d8 --ctx-size 2048 --rope-freq-base 10000.000000 --rope-freq-scale 1.000000 --batch-size 512 --n-gpu-layers 0 --embedding --gqa 1 --port 52894\n",
            "root        8642  0.0  0.0   7372  3468 ?        S    15:13   0:00 /bin/bash -c ps aux | grep olla\n",
            "root        8644  0.0  0.0   6480  2260 ?        S    15:13   0:00 grep olla\n"
          ]
        }
      ]
    },
    {
      "cell_type": "code",
      "source": [
        "!kill -9 5980"
      ],
      "metadata": {
        "colab": {
          "base_uri": "https://localhost:8080/"
        },
        "id": "86ufF79h0YTy",
        "outputId": "082a928d-386e-41fd-97c3-368290b9460a"
      },
      "execution_count": 49,
      "outputs": [
        {
          "output_type": "stream",
          "name": "stdout",
          "text": [
            "/bin/bash: line 1: kill: (5980) - No such process\n"
          ]
        }
      ]
    },
    {
      "cell_type": "code",
      "source": [
        "!ps aux | grep olla"
      ],
      "metadata": {
        "colab": {
          "base_uri": "https://localhost:8080/"
        },
        "id": "tRZH8cza2-cE",
        "outputId": "f0131989-cd93-4729-f48e-4973bca91245"
      },
      "execution_count": 50,
      "outputs": [
        {
          "output_type": "stream",
          "name": "stdout",
          "text": [
            "root        6055 83.0 32.6 5128036 4336796 ?     Sl   15:04   9:45 /tmp/ollama137593888/llama.cpp/ggml/build/cpu/bin/server --model /root/.ollama/models/blobs/sha256:8daa9615cce30c259a9555b1cc250d461d1bc69980a274b44d7eda0be78076d8 --ctx-size 2048 --rope-freq-base 10000.000000 --rope-freq-scale 1.000000 --batch-size 512 --n-gpu-layers 0 --embedding --gqa 1 --port 52894\n",
            "root        9219  0.0  0.0   7372  3528 ?        S    15:15   0:00 /bin/bash -c ps aux | grep olla\n",
            "root        9221  0.0  0.0   6480  2296 ?        S    15:15   0:00 grep olla\n"
          ]
        }
      ]
    },
    {
      "cell_type": "code",
      "source": [
        "!curl -X POST http://localhost:11434/api/generate -d '{ \\\n",
        "  \"model\": \"llama2\", \\\n",
        "  \"prompt\":\"Why is the sky blue?\" \\\n",
        "}'"
      ],
      "metadata": {
        "colab": {
          "base_uri": "https://localhost:8080/"
        },
        "id": "uDmR6QH527T9",
        "outputId": "695c662b-3ce2-4726-812c-4eff0600b1e0"
      },
      "execution_count": 51,
      "outputs": [
        {
          "output_type": "stream",
          "name": "stdout",
          "text": [
            "curl: (7) Failed to connect to localhost port 11434 after 0 ms: Connection refused\n"
          ]
        }
      ]
    },
    {
      "cell_type": "code",
      "source": [],
      "metadata": {
        "id": "tovL3NfF2_TY"
      },
      "execution_count": null,
      "outputs": []
    }
  ]
}